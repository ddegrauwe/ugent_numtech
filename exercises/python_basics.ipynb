{
 "cells": [
  {
   "cell_type": "markdown",
   "id": "cf48e454",
   "metadata": {},
   "source": [
    "# Python basics\n",
    "\n",
    "\n",
    "This notebook is intented to teach the basics of doing computations and looking at results in a Jupyter notebook. Its primary goal is to provide the tools that are used in the course of Numerical Techniques. In no way is it intented to be a general introduction to python. \n",
    "\n",
    "\n",
    "## 1. Jupyter notebooks\n",
    "\n",
    "A Jupyter notebook is organized as a series of \"cells\". Different types of cells exist: text cells (like this one), where you can provide information in Markdown format, and code cells, where you can put python code. The type of cell can be set from the menu on top.\n",
    "\n",
    "### Text cells\n",
    "To edit a text cell, double click it. To render it, hit SHIFT-ENTER.\n",
    "\n",
    "To add a new cell, single-click an existing cell and hit \"A\" or \"B\" to add a cell before or after it.\n",
    "\n",
    "**Exercise:** Add a new markdown cell after this one, put some text in it, and render it."
   ]
  },
  {
   "cell_type": "markdown",
   "id": "e4a6c2e3",
   "metadata": {},
   "source": [
    "### Code cells\n",
    "\n",
    "Markdown cells are useful to put explanations, but the actual coding is done in code cells. For example, the next cell is a code cell which contains some python code.\n",
    "\n",
    "**Exercise:** Execute the code in the next cell by clicking the cell and hitting SHIFT-ENTER.\n"
   ]
  },
  {
   "cell_type": "code",
   "execution_count": null,
   "id": "b4d4d867",
   "metadata": {},
   "outputs": [],
   "source": [
    "print(\"Hello world!\")"
   ]
  },
  {
   "cell_type": "markdown",
   "id": "c9126fb0",
   "metadata": {},
   "source": [
    "## 2. Python basics\n",
    "\n",
    "### Python variables\n",
    "\n",
    "The next code cell defines variables `nx` and `dx`. \n",
    "\n",
    "Comments can be put inside a code cell by putting it after `#`"
   ]
  },
  {
   "cell_type": "code",
   "execution_count": null,
   "id": "92955805",
   "metadata": {},
   "outputs": [],
   "source": [
    "nx=128    # number of gridpoints\n",
    "dx=0.1    # grid distance"
   ]
  },
  {
   "cell_type": "markdown",
   "id": "96a4b070",
   "metadata": {},
   "source": [
    "To show the value of a variable, you can use the display() function, or the print function(). For instance:"
   ]
  },
  {
   "cell_type": "code",
   "execution_count": null,
   "id": "105e2ec4",
   "metadata": {},
   "outputs": [],
   "source": [
    "print(\"dx = \",dx)\n",
    "display(nx)"
   ]
  },
  {
   "cell_type": "markdown",
   "id": "3baac083",
   "metadata": {},
   "source": [
    "**Exercise:** modify the values of the variables, and re-execute both code cells above."
   ]
  },
  {
   "cell_type": "markdown",
   "id": "d542e68c",
   "metadata": {},
   "source": [
    "### Python types and numerical operations\n",
    "\n",
    "Besides the regular mathematical operations `+`, `-`, `*`, `/`, python has some other useful operations. Python variables also have a type, which can be real, but also integer, complex, boolean."
   ]
  },
  {
   "cell_type": "code",
   "execution_count": null,
   "id": "9d440921",
   "metadata": {},
   "outputs": [],
   "source": [
    "a = 2.6          # just a real number\n",
    "b = 3.3\n",
    "z = a + b*1j     # complex number with real part a and imaginary part b (1j is the imaginary unit)\n",
    "\n",
    "print('a**2 = ',a**2)     # power of real number\n",
    "print('1j**2 = ',1j**2)   # power of imaginary number\n",
    "print('b%2 = ',b%2)       # remainder after division\n",
    "\n",
    "print('int(a) = ',int(a)) # round to zero\n",
    "\n",
    "\n"
   ]
  },
  {
   "cell_type": "markdown",
   "id": "96b969bb",
   "metadata": {},
   "source": [
    "### Python loops\n",
    "A python loop is created with the `for` command. See the next cell for an example."
   ]
  },
  {
   "cell_type": "code",
   "execution_count": null,
   "id": "8f8d924b",
   "metadata": {},
   "outputs": [],
   "source": [
    "for i in range(4):\n",
    "    print(\"i = \",i)"
   ]
  },
  {
   "cell_type": "markdown",
   "id": "96f2b1ff",
   "metadata": {},
   "source": [
    "The `range(n)` function generates a list of number. Note that by default, it starts at 0 and ends at `n-1`.\n",
    "\n",
    "Python is also sensitive to the indentation: the `print` statement (which should be looped on), is indented w.r.t. the `for` statement."
   ]
  },
  {
   "cell_type": "markdown",
   "id": "0a8eec72",
   "metadata": {},
   "source": [
    "### Python conditionals\n",
    "\n",
    "Conditionals are created in python with the `if` command. See the next cell for an example. \n",
    "\n",
    "**Exercise:** Change the value of `i` and see how it affects the output."
   ]
  },
  {
   "cell_type": "code",
   "execution_count": null,
   "id": "03ea3eac",
   "metadata": {},
   "outputs": [],
   "source": [
    "i=2\n",
    "if i>3:\n",
    "    print(\"i is larger than 3\")\n",
    "else:\n",
    "    print(\"i is smaller or equal to 3\")"
   ]
  },
  {
   "cell_type": "markdown",
   "id": "1a1e457c",
   "metadata": {},
   "source": [
    "To test for equality, use `==`. Conditions can be combined with `and`, `or` and `not`."
   ]
  },
  {
   "cell_type": "markdown",
   "id": "d11285a1",
   "metadata": {},
   "source": [
    "**Exercise:**\n",
    "\n",
    "Create a loop to identify all numbers lower than 100 which are divisible by 7 and for which the remainder after division by 5 is 3.\n"
   ]
  },
  {
   "cell_type": "markdown",
   "id": "53c40af6",
   "metadata": {},
   "source": [
    "### Python functions\n",
    "\n",
    "A function is defined with the `def` command. You can pass arguments to the function, and return output values from it."
   ]
  },
  {
   "cell_type": "code",
   "execution_count": null,
   "id": "99bd1a3c",
   "metadata": {},
   "outputs": [],
   "source": [
    "def myfun(x):\n",
    "    if x<10:\n",
    "        return(x)\n",
    "    else:\n",
    "        return(20-x)\n",
    "\n",
    "for x in range(20):\n",
    "    y=myfun(x)\n",
    "    print('myfun(',x,') = ',y)"
   ]
  },
  {
   "cell_type": "markdown",
   "id": "f73fdd4e",
   "metadata": {},
   "source": [
    "## 3. Numpy: a python library for numerics\n",
    "\n",
    "If you want to perform scientific calculations with python, it is very convenient to use the numpy library. It provides data structures for vectors and matrices and it provides algorithms such as Fast Fourier Transforms, linear algebra operations, etc.\n",
    "\n",
    "Loading numpy is done with the `import` statement. Note that it is aliased as `np`."
   ]
  },
  {
   "cell_type": "code",
   "execution_count": null,
   "id": "29f540c3",
   "metadata": {},
   "outputs": [],
   "source": [
    "import numpy as np"
   ]
  },
  {
   "cell_type": "markdown",
   "id": "e0759a55",
   "metadata": {},
   "source": [
    "### Important note: installing numpy\n",
    "If you get an ModuleNotFoundError, it means numpy isn't installed yet. It can be installed by running the following python code and restarting the kernel.\n",
    "```\n",
    "pip install numpy\n",
    "```\n",
    "This only has to be done once, not every time you open a notebook."
   ]
  },
  {
   "cell_type": "markdown",
   "id": "db2ba39d",
   "metadata": {},
   "source": [
    "### Numpy arrays\n",
    "\n",
    "A numpy array is a set of numbers, like a vector or a matrix. To create a sequence, use the numpy `np.arange` function:"
   ]
  },
  {
   "cell_type": "code",
   "execution_count": null,
   "id": "20257730",
   "metadata": {},
   "outputs": [],
   "source": [
    "x=dx*np.arange(nx)\n",
    "\n",
    "display(x)"
   ]
  },
  {
   "cell_type": "markdown",
   "id": "7b76df3a",
   "metadata": {},
   "source": [
    "You may have noted that you can apply mathematical operations on numpy arrays: we multiplied the output of `np.arange` immediately with the variable `dx`. \n",
    "\n",
    "To access a specific element of the array, use square brackets. Note that the first element is indexed as `x[0]`!\n",
    "\n",
    "Other functions to create arrays are `np.zeros` and `np.ones`. Note that these can also create multidimensional arrays, e.g. `np.zeros((5,6))` creates a 5-by-6 matrix of zeros."
   ]
  },
  {
   "cell_type": "code",
   "execution_count": null,
   "id": "ff40cc28",
   "metadata": {},
   "outputs": [],
   "source": [
    "display( np.zeros((5,6)) )"
   ]
  },
  {
   "cell_type": "markdown",
   "id": "f68cf8cd",
   "metadata": {},
   "source": [
    "### Finite difference derivatives\n",
    "\n",
    "Now, let's use numpy to define a function which approximates the derivative with finite differences. Periodicity is assumed.\n"
   ]
  },
  {
   "cell_type": "code",
   "execution_count": null,
   "id": "3cb7272d",
   "metadata": {},
   "outputs": [],
   "source": [
    "def finite_difference(y,dx):\n",
    "    # number of points\n",
    "    nx=len(y)\n",
    "    # generate indices of points\n",
    "    i=np.arange(nx)\n",
    "    # indices of points to the left\n",
    "    iL=i-1\n",
    "    # but this is wrong for the first point, so we fix it\n",
    "    iL[0]=nx-1    # modify the first element of iL to nx, i.e. assume periodicity\n",
    "\n",
    "    # approximate the derivative\n",
    "    dydx=(y[i]-y[iL])/dx\n",
    "\n",
    "    return(dydx)\n",
    "\n",
    "\n",
    "# grid\n",
    "nx=64\n",
    "dx=2*np.pi/nx        # np.pi is just pi = 3.14159...\n",
    "x=dx*np.arange(nx)\n",
    "\n",
    "# field and derivatives\n",
    "y=np.sin(3*x)       # to take the sine of a numpy array, use np.sin()\n",
    "dydx=3*np.cos(3*x)   # exact derivative\n",
    "dydx_fd=finite_difference(y,dx)   # finite differences\n",
    "\n",
    "#display(dydx)\n",
    "#display(dydx_fd)\n",
    "\n",
    "# calculate the error\n",
    "err=np.sum(np.abs(dydx-dydx_fd))/nx   # mean absolute error\n",
    "display(err)"
   ]
  },
  {
   "cell_type": "markdown",
   "id": "fbcd098e",
   "metadata": {},
   "source": [
    "**Exercise:** modify `nx` and see how the error varies."
   ]
  },
  {
   "cell_type": "markdown",
   "id": "138a1b64",
   "metadata": {},
   "source": [
    "## Plotting with matplotlib\n",
    "\n",
    "Matplotlib is a python library to create plots. The following code shows how to import the library and create a basic plot."
   ]
  },
  {
   "cell_type": "code",
   "execution_count": null,
   "id": "86b23572",
   "metadata": {},
   "outputs": [],
   "source": [
    "# load library\n",
    "%matplotlib notebook\n",
    "import matplotlib.pyplot as plt\n",
    "plt.ioff()\n",
    "\n",
    "# create plot\n",
    "fig=plt.figure()\n",
    "plt.plot(x,y,'s-',label='y')                  # s- means square markers (s) and solid line (-)\n",
    "plt.plot(x,dydx,'o-',label='dy/dx')           # o means round markers\n",
    "plt.plot(x,dydx_fd,'+-',label='fin. diff')    # + means plus markers\n",
    "plt.legend()                                  # add a legend\n",
    "plt.gcf()                                     # to actually show the figure"
   ]
  },
  {
   "cell_type": "markdown",
   "id": "c6787016-8739-43e4-9e72-6bbcbd7b0caa",
   "metadata": {},
   "source": [
    "As for `numpy`, if you get an error ModuleNotFound, you have to install matplotlib with\n",
    "`\n",
    "!pip install matplotlib\n",
    "`"
   ]
  },
  {
   "cell_type": "markdown",
   "id": "d492ddc2",
   "metadata": {},
   "source": [
    "## Application: order of accuracy of finite differences\n",
    "\n",
    "Let's apply the above to verify the order of accuracy of finite differences schemes\n"
   ]
  },
  {
   "cell_type": "code",
   "execution_count": null,
   "id": "287e86b4",
   "metadata": {},
   "outputs": [],
   "source": [
    "def finite_difference(y,dx):\n",
    "    # number of points\n",
    "    nx=len(y)\n",
    "    # generate indices of points\n",
    "    i=np.arange(nx)\n",
    "    # indices of points to the left\n",
    "    iL=(i-1)%nx        # small difference with previous version:\n",
    "                       # periodicity is implemented by taking the remainder after division;\n",
    "                       # no special treatment of boundary points is needed now.\n",
    "    iR=(i+1)%nx\n",
    "    # approximate the derivative\n",
    "    dydx=(y[iR]-y[iL])/(2*dx)\n",
    "\n",
    "    return(dydx)\n",
    "\n",
    "# number of gridpoints\n",
    "nx=2**np.arange(4,15)   # np.arange with two arguments generates a list from the first to the second (not included)\n",
    "\n",
    "# initialize error to zeros\n",
    "err=np.zeros(len(nx))\n",
    "\n",
    "# loop over resolutions\n",
    "for i in range(len(nx)):\n",
    "    # grid\n",
    "    dx=2*np.pi/nx[i]\n",
    "    x=dx*np.arange(nx[i])\n",
    "\n",
    "    # field and derivatives\n",
    "    y=np.sin(3*x)\n",
    "    dydx=3*np.cos(3*x)   # exact derivative\n",
    "    dydx_fd=finite_difference(y,dx)   # finite differences\n",
    "\n",
    "    # calculate the error\n",
    "    err[i]=np.sum(np.abs(dydx-dydx_fd))/nx[i]   # mean absolute error\n",
    "\n",
    "# plot on a log-log scale\n",
    "plt.figure()\n",
    "plt.plot(nx,err,'s-')\n",
    "plt.xscale('log')\n",
    "plt.yscale('log')\n",
    "plt.xlabel('Number of gridpoints')\n",
    "plt.ylabel('Error of finite differences')\n",
    "display(plt.gcf())"
   ]
  },
  {
   "cell_type": "markdown",
   "id": "278afe44",
   "metadata": {},
   "source": [
    "**Exercise:** Implement a function which calculates the 2nd-order centered finite difference approximation for the derivative:\n",
    "\n",
    "$$ \\frac{\\partial f}{\\partial x} = \\frac{f(x_{i+1})-f(x_{i-1})}{2\\Delta x} + \\mathcal{O}(2)$$\n",
    "\n",
    "Verify that it is 2nd order accurate by making a plot like above. Ideally, put the error from the first-order and from the second-order methods on the same plot."
   ]
  }
 ],
 "metadata": {
  "kernelspec": {
   "display_name": "Python 3 (ipykernel)",
   "language": "python",
   "name": "python3"
  },
  "language_info": {
   "codemirror_mode": {
    "name": "ipython",
    "version": 3
   },
   "file_extension": ".py",
   "mimetype": "text/x-python",
   "name": "python",
   "nbconvert_exporter": "python",
   "pygments_lexer": "ipython3",
   "version": "3.13.1"
  }
 },
 "nbformat": 4,
 "nbformat_minor": 5
}
