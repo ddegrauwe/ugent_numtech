{
 "cells": [
  {
   "cell_type": "markdown",
   "id": "d82a0e1f",
   "metadata": {},
   "source": [
    "# Exercises on lesson 2: Time discretization\n",
    "\n",
    "This practicum looks at various effects of time discretization. Schemes are formulated for a generic equation\n",
    "\n",
    "\n",
    "$$\\frac{d \\psi}{dt}=F(\\psi)$$\n",
    "\n",
    "\n",
    "The actual effects will be studied by applying the schemes to the oscillation equation:\n",
    "\n",
    "$$\\frac{d \\psi}{dt}=i\\kappa\\psi$$\n",
    "\n",
    "for which the exact solution is\n",
    "\n",
    "$$\\psi(t)=\\psi_0e^{i\\kappa t}$$\n",
    "\n"
   ]
  },
  {
   "cell_type": "code",
   "execution_count": null,
   "id": "ab29ae45",
   "metadata": {},
   "outputs": [],
   "source": [
    "# load libraries for plotting and computing\n",
    "import numpy as np\n",
    "%matplotlib notebook\n",
    "import matplotlib.pyplot as plt\n",
    "plt.ioff()"
   ]
  },
  {
   "cell_type": "markdown",
   "id": "a7e5c1a1",
   "metadata": {},
   "source": [
    "\n",
    "## 1. Single-stage two-timelevel schemes\n",
    "\n",
    "### 1.1. The forward scheme\n",
    "\n",
    "The forward scheme discretizes a differential equation in time as\n",
    "\n",
    "$$\\frac{\\phi^{n+1}-\\phi^n}{\\Delta t}=F(\\phi^n)$$\n",
    "\n",
    "From which\n",
    "\n",
    "$$\\phi^{n+1}=\\phi^n+\\Delta t F(\\phi^n)$$.\n",
    "\n",
    "Applied to the oscillation equation, this gives\n",
    "\n",
    "\n",
    "$$\\phi^{n+1}=\\phi^n+i\\kappa\\Delta t \\phi^n=(1+i\\kappa\\Delta t) \\phi^n$$.\n"
   ]
  },
  {
   "cell_type": "code",
   "execution_count": null,
   "id": "b792dd29",
   "metadata": {},
   "outputs": [],
   "source": [
    "# parameters\n",
    "dt=1.0\n",
    "kappa=0.1\n",
    "nt=200\n",
    "t=np.arange(nt+1)*dt\n",
    "\n",
    "# allocate solution\n",
    "psi=np.zeros(nt+1,dtype=complex)\n",
    "phi=np.zeros(nt+1,dtype=complex)\n",
    "\n",
    "# initial conditions\n",
    "psi[0]=1\n",
    "phi[0]=1\n",
    "\n",
    "# time integration\n",
    "for jt in range(nt):\n",
    "    psi[jt+1]=np.exp(1j*kappa*dt)*psi[jt]\n",
    "    phi[jt+1]=(1+1j*kappa*dt)*phi[jt]\n",
    "\n",
    "# plot results\n",
    "plt.figure()\n",
    "plt.plot(t,np.real(psi),label='exact')\n",
    "plt.plot(t,np.real(phi),label='forward')\n",
    "plt.legend()\n",
    "plt.ylim([-2,2])\n",
    "plt.gcf()   # to actually show the plot"
   ]
  },
  {
   "cell_type": "markdown",
   "id": "30e0bec2",
   "metadata": {},
   "source": [
    "We observe that the forward scheme is amplifying!\n",
    "\n",
    "**Exercise**: examine if the scheme is accelerating or decelerating by increasing the value of `kappa`.\n",
    "\n",
    "**Exercise**: plot the amplification factor as a function of $\\kappa\\Delta t$"
   ]
  },
  {
   "cell_type": "code",
   "execution_count": null,
   "id": "d7674040-2b9d-4c00-a102-37b89798fa03",
   "metadata": {},
   "outputs": [],
   "source": [
    "# put your solution here"
   ]
  },
  {
   "cell_type": "markdown",
   "id": "e5512f84",
   "metadata": {},
   "source": [
    "### 1.2. The backward and trapezium schemes\n",
    "\n",
    "For the backward scheme, we write\n",
    "\n",
    "$$\\frac{\\phi^{n+1}-\\phi^n}{\\Delta t}=F(\\phi^{n+1})$$\n",
    "\n",
    "Applied to the oscillation equation, this gives\n",
    "\n",
    "$$\\frac{\\phi^{n+1}-\\phi^n}{\\Delta t}=i\\kappa \\phi^{n+1}$$,\n",
    "\n",
    "from which\n",
    "\n",
    "$$\\phi^{n+1}=\\frac{1}{1-i\\kappa\\Delta t}\\phi^{n}$$\n",
    "\n",
    "\n",
    "For the trapezium scheme, we write\n",
    "\n",
    "$$\\frac{\\phi^{n+1}-\\phi^n}{\\Delta t}=\\frac{1}{2}F(\\phi^{n})+\\frac{1}{2}F(\\phi^{n+1})$$\n",
    "\n",
    "Applied to the oscillation equation, this gives\n",
    "\n",
    "$$\\frac{\\phi^{n+1}-\\phi^n}{\\Delta t}=\\frac{i\\kappa}{2}\\left(\\phi^n+\\phi^{n+1}\\right)$$,\n",
    "\n",
    "from which\n",
    "\n",
    "$$\\phi^{n+1}=\\frac{1+i\\kappa\\Delta t/2}{1-i\\kappa\\Delta t/2}\\phi^{n}$$\n",
    "\n",
    "\n"
   ]
  },
  {
   "cell_type": "markdown",
   "id": "27fe980c",
   "metadata": {},
   "source": [
    "**Exercise**: following the example of the forward scheme, compute and show the time evolution with the backward and the trapezium scheme. What is their effect on the amplitude and on the phase error?"
   ]
  },
  {
   "cell_type": "code",
   "execution_count": null,
   "id": "52f037e5-4b2b-4d60-a2cc-481c0dc6a210",
   "metadata": {},
   "outputs": [],
   "source": [
    "# put your solution here"
   ]
  },
  {
   "cell_type": "markdown",
   "id": "716d07f0",
   "metadata": {},
   "source": [
    "## 2. Multistage methods\n",
    "\n",
    "### 2.1. Heun and Matsuno schemes\n",
    "\n",
    "These are two-stage schemes. The Heun scheme is formulated as a combination of a forward stage and a trapezium stage:\n",
    "\n",
    "$$\n",
    "\\begin{aligned}\n",
    "    \\tilde\\phi &= \\phi^n+\\Delta t F(\\phi^n) \\\\\n",
    "    \\phi^{n+1} &= \\phi^n+\\frac{\\Delta t}{2}\\left(F(\\phi^n)+F(\\tilde\\phi)\\right)\n",
    "\\end{aligned}\n",
    "$$\n"
   ]
  },
  {
   "cell_type": "markdown",
   "id": "4ba9d01b",
   "metadata": {},
   "source": [
    "The Heun scheme looks quite well. However, it is unconditionally unstable.\n",
    "\n",
    "**Exercise**: show the instability of the Heun scheme by running it for a very long time (increase `nt`), or by increasing the value of `kappa` or `dt`."
   ]
  },
  {
   "cell_type": "code",
   "execution_count": null,
   "id": "27ad53c1-2c44-4b95-93dc-16121b6f1265",
   "metadata": {},
   "outputs": [],
   "source": [
    "# put your solution here"
   ]
  },
  {
   "cell_type": "markdown",
   "id": "bf8217b7",
   "metadata": {},
   "source": [
    "The Matsuno scheme combines a forward stage (amplifying) with a backward stage (damping):\n",
    "\n",
    "$$\\begin{aligned}\n",
    "    \\tilde\\phi &= \\phi^n+\\Delta t F(\\phi^n)\\\\\n",
    "    \\phi^{n+1} &= \\phi^n+\\Delta t F(\\tilde\\phi)\n",
    "\\end{aligned}$$\n",
    "\n",
    "**Exercise**: Check the results for the Matsuno scheme; is it amplifying or damping? Try different values for `kappa*dt`!\n"
   ]
  },
  {
   "cell_type": "code",
   "execution_count": null,
   "id": "602d3dbf-d469-4c9c-82c0-84ec525bc472",
   "metadata": {},
   "outputs": [],
   "source": [
    "# put your solution here"
   ]
  },
  {
   "cell_type": "markdown",
   "id": "ab271fcd",
   "metadata": {},
   "source": [
    "### 2.2. Runge-Kutta-4\n",
    "\n",
    "This popular scheme is 4th-order accurate. It is formulated as\n",
    "\n",
    "$$\n",
    "\\begin{aligned}\n",
    "    q_1 &= \\Delta t F(\\phi^n) \\\\\n",
    "    q_2 &= \\Delta t F(\\phi^n+q_1/2) \\\\\n",
    "    q_3 &= \\Delta t F(\\phi^n+q_2/2) \\\\\n",
    "    q_4 &= \\Delta t F(\\phi^n+q_3) \\\\\n",
    "    \\phi^{n+1} &= \\phi^n+\\frac{1}{6}\\left(q_1+2q_2+2q_3+q_4\\right)\n",
    "\\end{aligned}\n",
    "$$\n",
    "\n",
    "**Exercise**: Implement the RK4 scheme and verify its stability.\n",
    "\n"
   ]
  },
  {
   "cell_type": "code",
   "execution_count": null,
   "id": "ea1bbbf7-a196-4f25-9df8-a43dd2a7ac70",
   "metadata": {},
   "outputs": [],
   "source": [
    "# put your solution here"
   ]
  },
  {
   "cell_type": "markdown",
   "id": "4a0b244e",
   "metadata": {},
   "source": [
    "## 3. Three-timelevel schemes\n",
    "\n",
    "### 3.1. The leapfrog scheme\n",
    "\n",
    "The leapfrog scheme is a 3-timelevel scheme, i.e. it uses information from the current timestep $t$ and from the previous timestep $t-\\Delta t$ to determine the solution at the next timestep $t+\\Delta t$. It is formulated as:\n",
    "\n",
    "$$\\frac{\\phi^{n+1}-\\phi^{n-1}}{2\\Delta t}=F(\\phi^n)$$,\n",
    "\n",
    "from which\n",
    "\n",
    "$$\\phi^{n+1}=\\phi^{n-1}+2\\Delta tF(\\phi^n)$$.\n",
    "\n",
    "Note that during the first timestep, a different timescheme has to be used, e.g. the forward scheme. (The amplification during a single timestep is assumed to be acceptable).\n",
    "\n",
    "**Exercise:** Implement the leapfrog scheme and verify its stability.\n"
   ]
  },
  {
   "cell_type": "code",
   "execution_count": null,
   "id": "4eebfb85-080a-4505-9da1-75d183e18224",
   "metadata": {},
   "outputs": [],
   "source": [
    "# put your solution here"
   ]
  },
  {
   "cell_type": "markdown",
   "id": "210ba434",
   "metadata": {},
   "source": [
    "Being a 3-timelevel scheme, the leapfrog scheme in fact has two modes in its solution: a physical mode and an artificial computational mode. \n",
    "\n",
    "**Exercise**: Try to make the computational mode appear, by putting an intentional error in the first timestep, e.g. by adding a small extra term to $\\phi^1$. The computational mode manifests itself by a ping-pong behaviour between even and odd timesteps."
   ]
  },
  {
   "cell_type": "code",
   "execution_count": null,
   "id": "0b0a195e-a00b-493c-ae4e-c936327ba4d7",
   "metadata": {},
   "outputs": [],
   "source": [
    "# put your solution here"
   ]
  },
  {
   "cell_type": "markdown",
   "id": "360f7ed2",
   "metadata": {},
   "source": [
    "The computational mode can be damped by implementing a Robert-Asselin filter:\n",
    "\n",
    "$$\n",
    "\\begin{aligned}\n",
    "    \\phi^{n+1} &= \\overline{\\phi^{n-1}}+2\\Delta t F(\\phi^n) \\\\\n",
    "    \\overline{\\phi^n} &= \\phi^n+\\gamma\\left(\\overline{\\phi^{n-1}}-2\\phi^n+\\phi^{n+1}\\right)\n",
    "\\end{aligned}\n",
    "$$\n",
    "\n",
    "**Exercise**: Implement the Robert-Asselin filter to the sabotaged leapfrog from above, and watch the computational mode getting damped."
   ]
  },
  {
   "cell_type": "code",
   "execution_count": null,
   "id": "d0629541-7364-480b-ba4b-501400e8f345",
   "metadata": {},
   "outputs": [],
   "source": [
    "# put your solution here"
   ]
  }
 ],
 "metadata": {
  "kernelspec": {
   "display_name": "Python 3 (ipykernel)",
   "language": "python",
   "name": "python3"
  },
  "language_info": {
   "codemirror_mode": {
    "name": "ipython",
    "version": 3
   },
   "file_extension": ".py",
   "mimetype": "text/x-python",
   "name": "python",
   "nbconvert_exporter": "python",
   "pygments_lexer": "ipython3",
   "version": "3.13.1"
  }
 },
 "nbformat": 4,
 "nbformat_minor": 5
}
