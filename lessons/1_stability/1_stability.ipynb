{
 "cells": [
  {
   "cell_type": "markdown",
   "metadata": {},
   "source": [
    "# Numerical Techniques 1: Stability\n",
    "\n",
    "## Introduction\n",
    "This notebook illustrates the concept of numerical stability by applying the upstream scheme to the constant 1D advection equation.\n",
    "\n",
    "The constant 1D advection equation is given by\n",
    "\n",
    "$$\\frac{\\partial \\psi}{\\partial t}+c\\frac{\\partial\\psi}{\\partial x}=0,$$\n",
    "\n",
    "where $\\psi(t,x)$ is the field (e.g. temperature, tracer concentration, ...) advected in space and time, and $c$ is the constant advection speed.\n",
    "\n",
    "The upstream scheme discretizes this equation as\n",
    "\n",
    "$$\\frac{\\phi_j^{n+1}-\\phi_j^n}{\\Delta t}-c\\frac{\\phi_j^n-\\phi_{j-1}^n}{\\Delta x}=0,$$\n",
    "\n",
    "where $\\phi_j^n$ represents the numerical solution at gridpoint $x=j\\Delta x$ at time $t=n\\Delta t$. From this equation, the solution at the next timestep is found from the solution at the current timestep through\n",
    "\n",
    "$$\\phi_j^{n+1}=(1-\\mu)\\phi_j^n+\\mu\\phi_{j-1}^n.$$"
   ]
  },
  {
   "cell_type": "markdown",
   "metadata": {},
   "source": [
    "## Preparations: load numpy and matplotlib libraries\n",
    "\n",
    "* numpy is a python library for (fast) computations\n",
    "* matplotlib is a python library for plotting"
   ]
  },
  {
   "cell_type": "code",
   "execution_count": null,
   "metadata": {},
   "outputs": [],
   "source": [
    "## Load numpy and matplotlib libraries\n",
    "import numpy as np\n",
    "%matplotlib notebook\n",
    "import matplotlib.pyplot as plt\n",
    "import matplotlib.animation as animation\n",
    "plt.ioff()\n",
    "plt.rcParams[\"animation.html\"] = \"jshtml\"\n",
    "plt.rcParams['figure.dpi'] = 100  # reduce to generate figures faster (but smaller)"
   ]
  },
  {
   "cell_type": "markdown",
   "metadata": {},
   "source": [
    "## Parameter and coordinate definitions\n"
   ]
  },
  {
   "cell_type": "code",
   "execution_count": null,
   "metadata": {},
   "outputs": [],
   "source": [
    "# spatial parameters\n",
    "nx=100\n",
    "dx=1.0\n",
    "\n",
    "# time parameters\n",
    "nt=50\n",
    "dt=1.0\n",
    "\n",
    "# problem parameters\n",
    "c=0.5\n",
    "mu=c*dx/dt\n",
    "\n",
    "# spatial coordinate\n",
    "x=np.arange(nx)*dx   # np.arange generates a list from 0 to nx-1\n",
    "\n",
    "# time coordinate\n",
    "t=np.arange(nt)*dt"
   ]
  },
  {
   "cell_type": "markdown",
   "metadata": {},
   "source": [
    "## Initial state and exact solution\n",
    "\n",
    "The initial state is defined as a function $f$ of the spatial coordinate $x$. The exact solution at time $t$ is then given by $f(x-ct)$."
   ]
  },
  {
   "cell_type": "code",
   "execution_count": null,
   "metadata": {},
   "outputs": [],
   "source": [
    "def initial_state(x):\n",
    "    # gaussian bell\n",
    "    \n",
    "    # domain length\n",
    "    L=nx*dx\n",
    "    \n",
    "    # first, make x periodic\n",
    "    xp=x%L   # '%' is the modulo operator, i.e. the remainder after division by L. This makes x periodic with period L\n",
    "    \n",
    "    # next, rescale x to (-1,1)\n",
    "    xr=(xp-L/2)/(L/2)\n",
    "    \n",
    "    # now, compute the gaussian bell\n",
    "    y=np.exp( -10 * xr**2)\n",
    "    return(y)\n",
    "\n",
    "def exact_solution(x,t):\n",
    "    return( initial_state(x-c*t) )\n",
    "\n",
    "# compute initial state\n",
    "phi0=initial_state(x)\n"
   ]
  },
  {
   "cell_type": "markdown",
   "metadata": {},
   "source": [
    "## Plot initial state"
   ]
  },
  {
   "cell_type": "code",
   "execution_count": null,
   "metadata": {},
   "outputs": [],
   "source": [
    "fig,ax=plt.subplots()\n",
    "ax.plot(x,phi0,label=\"Initial state\");\n",
    "plt.legend()\n",
    "display(fig)"
   ]
  },
  {
   "cell_type": "markdown",
   "metadata": {},
   "source": [
    "## Animating results\n"
   ]
  },
  {
   "cell_type": "code",
   "execution_count": null,
   "metadata": {},
   "outputs": [],
   "source": [
    "def create_animation(psi=None,phi=None,frames=None):\n",
    "    \n",
    "    # create figure with axes\n",
    "    fig,ax=plt.subplots()\n",
    "    \n",
    "    # determine frames to plot\n",
    "    if frames is None:\n",
    "        # number of timesteps\n",
    "        nt=np.inf\n",
    "        if not psi is None:\n",
    "            nt=min(nt,psi.shape[0]-1)\n",
    "        if not phi is None:\n",
    "            nt=min(nt,phi.shape[0]-1)\n",
    "\n",
    "        frames=np.arange(0,nt+1)\n",
    "    else:\n",
    "        nt=frames[-1]\n",
    "\n",
    "    # create line for exact solution\n",
    "    if not psi is None:\n",
    "        ll_e=ax.plot(x,psi[frames[0],:],label='exact')[0]  # exact solution\n",
    "    \n",
    "    # create line for numerical solution\n",
    "    if not phi is None:\n",
    "        ll_n=ax.plot(x,phi[frames[0],:],label='numerical')[0]  # numerical solution\n",
    "        \n",
    "    # add legend\n",
    "    plt.legend()\n",
    "    \n",
    "    # add title\n",
    "    tt=plt.title('')\n",
    "    \n",
    "\n",
    "    def animate(iframe):\n",
    "        if not psi is None:\n",
    "            ll_e.set_ydata(psi[iframe,:])\n",
    "        if not phi is None:\n",
    "            ll_n.set_ydata(phi[iframe,:])\n",
    "        tt.set_text('timestep %i/%i'%(iframe,nt))\n",
    "\n",
    "    anim=animation.FuncAnimation(fig, animate, frames=frames,cache_frame_data=False,blit=True)\n",
    "    display(anim)"
   ]
  },
  {
   "cell_type": "markdown",
   "metadata": {},
   "source": [
    "## Numerical solution\n",
    "\n"
   ]
  },
  {
   "cell_type": "code",
   "execution_count": null,
   "metadata": {},
   "outputs": [],
   "source": [
    "# reset parameters\n",
    "c=0.7\n",
    "dt=1.0\n",
    "nt=int(100/dt)\n",
    "dx=0.5\n",
    "nx=int(70/dx)\n",
    "mu=c*dt/dx\n",
    "print('mu = ',mu)\n",
    "\n",
    "# define coordinates\n",
    "x=np.arange(nx)*dx\n",
    "t=np.arange(nt)*dt\n",
    "\n",
    "# function to move forward in time from current timestep to next timestep\n",
    "def timestep(phi_current):\n",
    "    iL=(np.arange(nx)-1)%nx    # indices of points to the left, i.e. (nx-1,0,1,...,nx-2)\n",
    "    phi_next=(1-mu)*phi_current+mu*phi_current[iL]\n",
    "    return(phi_next)\n",
    "\n",
    "# allocate numerical solution, initialize with zeros\n",
    "psi=np.zeros((nt+1,nx))\n",
    "phi=np.zeros((nt+1,nx))\n",
    "\n",
    "# set initial state\n",
    "phi[0,:]=initial_state(x)\n",
    "psi[0,:]=initial_state(x)\n",
    "\n",
    "# move forward in time\n",
    "for jt in range(0,nt):\n",
    "    psi[jt+1,:]=exact_solution(x,dt*(jt+1))\n",
    "    phi[jt+1,:]=timestep(phi[jt,:])\n",
    "\n",
    "# create animation\n",
    "create_animation(psi,phi,frames=np.linspace(0,nt,nt+1,dtype=int))\n"
   ]
  },
  {
   "cell_type": "code",
   "execution_count": null,
   "metadata": {},
   "outputs": [],
   "source": []
  }
 ],
 "metadata": {
  "kernelspec": {
   "display_name": "Python 3",
   "language": "python",
   "name": "python3"
  },
  "language_info": {
   "codemirror_mode": {
    "name": "ipython",
    "version": 3
   },
   "file_extension": ".py",
   "mimetype": "text/x-python",
   "name": "python",
   "nbconvert_exporter": "python",
   "pygments_lexer": "ipython3",
   "version": "3.8.2"
  }
 },
 "nbformat": 4,
 "nbformat_minor": 5
}
