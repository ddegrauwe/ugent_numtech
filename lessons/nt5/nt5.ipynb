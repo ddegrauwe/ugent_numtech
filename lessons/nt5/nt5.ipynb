{
 "cells": [
  {
   "cell_type": "markdown",
   "metadata": {},
   "source": [
    "# Beyond the 1D advection equation"
   ]
  },
  {
   "cell_type": "code",
   "execution_count": null,
   "metadata": {},
   "outputs": [],
   "source": [
    "# setup\n",
    "%matplotlib inline\n",
    "import matplotlib.pyplot as plt\n",
    "import matplotlib.animation\n",
    "plt.rcParams[\"animation.html\"] = \"jshtml\"\n",
    "import numpy as np\n"
   ]
  },
  {
   "cell_type": "code",
   "execution_count": null,
   "metadata": {},
   "outputs": [],
   "source": [
    "# function to animate results from a given output file\n",
    "def showResults(filename='output.dat',experiments=None,ylim=None,stride=1):\n",
    "    # load data\n",
    "    with open(filename) as fid:\n",
    "        # read header\n",
    "        header=fid.readline().split()\n",
    "        nx=int(header[0])\n",
    "        dx=float(header[1])\n",
    "        nt=int(header[2])\n",
    "        dt=float(header[3])\n",
    "        nExperiments=int(header[4])\n",
    "        # read experiment names\n",
    "        expNames=fid.readline().split('\"')[1::2]\n",
    "        # read data\n",
    "        data=np.loadtxt(filename,skiprows=2)\n",
    "        data=data.reshape((int(data.shape[0]/nExperiments),nExperiments,nx))\n",
    "    \n",
    "    if experiments is None:\n",
    "        experiments=range(nExperiments)\n",
    "    \n",
    "    if ylim is None:\n",
    "        ylim=[2*np.min(data[0,:])-np.max(data[0,:]),2*np.max(data[0,:])-np.min(data[0,:])]\n",
    "    \n",
    "    frames=np.arange(0,data.shape[0],stride)\n",
    "    \n",
    "    # define time and space\n",
    "    t = np.arange(nt+1)*dt\n",
    "    x = np.arange(nx)*dx\n",
    "\n",
    "    # create empty figure\n",
    "    fig, ax = plt.subplots(figsize=(12,8));\n",
    "    h = ax.axis([0,nx*dx,ylim[0],ylim[1]])\n",
    "    ll=[None]*nExperiments\n",
    "    \n",
    "    for iExperiment in experiments:\n",
    "        lll, = ax.plot([],[],label=expNames[iExperiment])\n",
    "        ll[iExperiment]=lll\n",
    "    tt=plt.title('')\n",
    "    plt.legend()\n",
    "\n",
    "    # define plot function for a single time step\n",
    "    def plotResults(it):\n",
    "        tt.set_text('%3i/%3i'%(it,nt))\n",
    "        for iExperiment in experiments:\n",
    "            ll[iExperiment].set_data(x, data[it,iExperiment,:])\n",
    "    \n",
    "    # animate over timesteps\n",
    "    ani = matplotlib.animation.FuncAnimation(fig, plotResults, frames=frames)\n",
    "    plt.close()\n",
    "    display(ani)"
   ]
  },
  {
   "cell_type": "markdown",
   "metadata": {},
   "source": [
    "## Shallow Water Equations"
   ]
  },
  {
   "cell_type": "code",
   "execution_count": null,
   "metadata": {},
   "outputs": [],
   "source": [
    "# illustration of shallow water equation\n",
    "filename='swe1D/output.dat'\n",
    "showResults(filename,experiments=[1],stride=10)"
   ]
  },
  {
   "cell_type": "markdown",
   "metadata": {},
   "source": [
    "## Diffusion equation"
   ]
  },
  {
   "cell_type": "code",
   "execution_count": null,
   "metadata": {},
   "outputs": [],
   "source": [
    "# illustration of diffusion equation\n",
    "filename='diffusion/output.dat'\n",
    "showResults(filename,stride=10)"
   ]
  },
  {
   "cell_type": "markdown",
   "metadata": {},
   "source": [
    "## Burger's equation"
   ]
  },
  {
   "cell_type": "code",
   "execution_count": null,
   "metadata": {},
   "outputs": [],
   "source": [
    "# results of burger's equation: advective form\n",
    "filename='burger/output.dat'\n",
    "showResults(filename,experiments=[0],stride=5)"
   ]
  },
  {
   "cell_type": "code",
   "execution_count": null,
   "metadata": {},
   "outputs": [],
   "source": [
    "# results of burger's equation: flux form\n",
    "filename='burger/output.dat'\n",
    "showResults(filename,experiments=[0,1],stride=5)"
   ]
  },
  {
   "cell_type": "code",
   "execution_count": null,
   "metadata": {},
   "outputs": [],
   "source": [
    "# results of burger's equation: conservative form\n",
    "filename='burger/output.dat'\n",
    "showResults(filename,stride=5)"
   ]
  }
 ],
 "metadata": {
  "kernelspec": {
   "display_name": "Python 3",
   "language": "python",
   "name": "python3"
  },
  "language_info": {
   "codemirror_mode": {
    "name": "ipython",
    "version": 3
   },
   "file_extension": ".py",
   "mimetype": "text/x-python",
   "name": "python",
   "nbconvert_exporter": "python",
   "pygments_lexer": "ipython3",
   "version": "3.8.2"
  }
 },
 "nbformat": 4,
 "nbformat_minor": 4
}
