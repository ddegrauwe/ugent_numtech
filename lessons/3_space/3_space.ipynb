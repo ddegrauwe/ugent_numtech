{
 "cells": [
  {
   "cell_type": "markdown",
   "id": "406702af",
   "metadata": {},
   "source": [
    "# Numerical Techniques 3: Space discretization\n",
    "\n"
   ]
  },
  {
   "cell_type": "markdown",
   "id": "e59a83c4",
   "metadata": {},
   "source": [
    "## Preparations: load numpy and matplotlib libraries"
   ]
  },
  {
   "cell_type": "code",
   "execution_count": null,
   "id": "f073025b",
   "metadata": {},
   "outputs": [],
   "source": [
    "## Load numpy and matplotlib libraries\n",
    "import numpy as np\n",
    "%matplotlib notebook\n",
    "import matplotlib.pyplot as plt\n",
    "import matplotlib.animation as animation\n",
    "plt.ioff()\n",
    "plt.rcParams[\"animation.html\"] = \"jshtml\"\n",
    "plt.rcParams['figure.dpi'] = 100  # reduce to generate figures faster (but smaller)\n",
    "\n",
    "# function for animating results\n",
    "def create_animation(phi,frames=None,labels=None,ylim=None):\n",
    "    \n",
    "    # create figure with axes\n",
    "    fig,ax=plt.subplots()\n",
    "    \n",
    "    if len(phi.shape)==2:\n",
    "        phi=phi.reshape([phi.shape[0],phi.shape[1],1])\n",
    "    \n",
    "    # number of experiments\n",
    "    nExp=phi.shape[2]\n",
    "\n",
    "    # determine frames to plot\n",
    "    if frames is None:\n",
    "        # number of timesteps\n",
    "        nt=phi.shape[0]-1\n",
    "        frames=np.arange(0,nt+1)\n",
    "    else:\n",
    "        nt=frames[-1]\n",
    "    \n",
    "    \n",
    "    # set y limits\n",
    "    if ylim is None:\n",
    "        ymin=np.min(phi[0,:,:])\n",
    "        ymax=np.max(phi[0,:,:])\n",
    "        ylim=[1.2*ymin-0.2*ymax,1.2*ymax-0.2*ymin]\n",
    "    \n",
    "    # labels and legend   \n",
    "    showlegend=True\n",
    "    if labels is None:\n",
    "        showlegend=False\n",
    "        labels=['exp %i'%jExp for jExp in range(nExp)]\n",
    "        \n",
    "    # create lines for numerical solution\n",
    "    ll_n=[ax.plot(x,phi[frames[0],:,jExp],label=labels[jExp])[0] for jExp in range(nExp)]\n",
    "    \n",
    "    # set ylim\n",
    "    ax.set_ylim(ylim)\n",
    "    \n",
    "    # add legend\n",
    "    if showlegend:\n",
    "        plt.legend()\n",
    "    \n",
    "    # add title\n",
    "    tt=plt.title('')\n",
    "    \n",
    "\n",
    "    def animate(iframe):\n",
    "        for jExp in range(nExp):\n",
    "            ll_n[jExp].set_ydata(phi[iframe,:,jExp])\n",
    "        tt.set_text('timestep %i/%i'%(iframe,nt))\n",
    "\n",
    "    anim=animation.FuncAnimation(fig, animate, frames=frames,cache_frame_data=False,blit=True)\n",
    "    display(anim)"
   ]
  },
  {
   "cell_type": "markdown",
   "id": "f6da1893",
   "metadata": {},
   "source": [
    "## Phase speed and group speed\n",
    "\n",
    "Phase speed and group speed can be illustrated by applying centered space differences to the advection equation. Time integration is done exactly. Letting\n",
    "\n",
    "$$\\phi_j(t)=\\sum_k \\hat\\phi_k e^{-i(\\omega t-kj\\Delta x)}$$\n",
    "\n",
    "and substituting in the advection equation\n",
    "\n",
    "$$\\frac{\\partial \\psi}{\\partial t}+c\\frac{\\partial \\psi}{\\partial x}=0$$\n",
    "\n",
    "leads to \n",
    "\n",
    "$$\\omega \\phi_k-\\frac{c\\sin k\\Delta x}{\\Delta x}\\phi_k=0$$\n",
    "\n",
    "so the dispersion relation is\n",
    "\n",
    "$$\\omega=c\\frac{\\sin k\\Delta x}{\\Delta x}$$\n",
    "\n",
    "To visualize the difference, we animate $\\phi(t)$ for an initial condition which is the sum of two waves:\n",
    "\n",
    "$$\\phi=e^{i(\\omega_1 t-k_1j\\Delta x)}+e^{i(\\omega_2 t-k_2j\\Delta x)}$$\n",
    "\n",
    "By choosing $k_1$ and $k_2$ close together and high enough, the group speed will be negative, and the phase speed will be positive.\n"
   ]
  },
  {
   "cell_type": "code",
   "execution_count": null,
   "id": "35d56ca8",
   "metadata": {},
   "outputs": [],
   "source": [
    "# parameters\n",
    "nt=100\n",
    "dt=2*np.pi/nt\n",
    "nx=128\n",
    "dx=2*np.pi/nx\n",
    "c=dx/dt\n",
    "\n",
    "# define coordinates\n",
    "x=np.arange(nx)*dx\n",
    "t=np.arange(nt)*dt\n",
    "\n",
    "# wavenumbers (-n/2:n/2)\n",
    "k1=nx//8-4\n",
    "k2=nx//8-5\n",
    "\n",
    "\n",
    "# dispersion relation\n",
    "omega1=c*np.sin(4*k1*dx)/dx\n",
    "omega2=c*np.sin(4*k2*dx)/dx\n",
    "\n",
    "# allocate numerical solution, initialize with zeros\n",
    "phi=np.zeros((nt,nx))\n",
    "\n",
    "# set initial state: sum of two harmonics\n",
    "for jt in range(nt):\n",
    "    phi[jt,:]=np.real(np.exp(1j*(omega1*jt*dt-k1*x))+np.exp(1j*(omega2*jt*dt-k2*x)))\n",
    "\n",
    "# create animation\n",
    "create_animation(phi=phi)"
   ]
  },
  {
   "cell_type": "markdown",
   "id": "89468177",
   "metadata": {},
   "source": [
    "## Response to spike experiment"
   ]
  },
  {
   "cell_type": "code",
   "execution_count": null,
   "id": "a7f801ab",
   "metadata": {},
   "outputs": [],
   "source": [
    "# parameters\n",
    "dt=1.0\n",
    "nt=40\n",
    "nx=128\n",
    "dx=2*np.pi/nx\n",
    "c=dx/dt\n",
    "\n",
    "# define coordinates\n",
    "x=np.arange(nx)*dx\n",
    "t=np.arange(nt)*dt\n",
    "\n",
    "# wavenumbers: conventional order is (0:n/2-1,-n/2:-1)\n",
    "k=(np.arange(nx)+nx//2)%nx-nx//2\n",
    "\n",
    "# dispersion relation\n",
    "nExp=5\n",
    "omega=np.zeros((nx,nExp),dtype=complex)\n",
    "omega[:,0]=c*k   # exact\n",
    "omega[:,1]=c*np.sin(k*dx)/dx+1j*(np.cos(k*dx)-1)   # 1st order\n",
    "omega[:,2]=c*np.sin(k*dx)/dx   # 2nd order\n",
    "omega[:,3]=c/dx*(4/3*np.sin(k*dx)-1/6*np.sin(2*k*dx)-1j*(1-np.cos(k*dx))**2/3)\n",
    "omega[:,4]=c/dx*(4/3*np.sin(k*dx)-1/6*np.sin(2*k*dx))\n",
    "\n",
    "# allocate numerical solution, initialize with zeros\n",
    "phi=np.zeros((nt+1,nx,nExp))\n",
    "phi0=np.zeros(nx);phi0[nx//2]=1  # spike\n",
    "phi[0,:,:]=np.resize(phi0,(nExp,nx)).T\n",
    "\n",
    "# evolution in time\n",
    "for jt in range(1,nt+1):\n",
    "    for jExp in range(nExp):\n",
    "        phi_s=np.fft.fft(phi[jt-1,:,jExp])  # spectral components\n",
    "        phi_s=np.exp(-1j*omega[:,jExp]*dt)*phi_s\n",
    "        phi[jt,:,jExp]=np.real(np.fft.ifft(phi_s))"
   ]
  },
  {
   "cell_type": "markdown",
   "id": "4df2d1f1",
   "metadata": {},
   "source": [
    "### 2nd and 4th order schemes"
   ]
  },
  {
   "cell_type": "code",
   "execution_count": null,
   "id": "79ffc1c9",
   "metadata": {},
   "outputs": [],
   "source": [
    "# create animation\n",
    "create_animation(phi=phi[:,:,[0,2,4]],labels=['exact','2nd order','4th order'],ylim=[-.5,1.2])"
   ]
  },
  {
   "cell_type": "markdown",
   "id": "948ba634",
   "metadata": {},
   "source": [
    "### 1st and 3rd order schemes"
   ]
  },
  {
   "cell_type": "code",
   "execution_count": null,
   "id": "ddcae753",
   "metadata": {},
   "outputs": [],
   "source": [
    "create_animation(phi=phi[:,:,[0,1,3]],labels=['exact','1st order','3rd order'],ylim=[-.5,1.2])"
   ]
  },
  {
   "cell_type": "markdown",
   "id": "e232ae42",
   "metadata": {},
   "source": [
    "## Response to smooth initial state"
   ]
  },
  {
   "cell_type": "code",
   "execution_count": null,
   "id": "e5157985",
   "metadata": {},
   "outputs": [],
   "source": [
    "# parameters\n",
    "dt=1.0\n",
    "nt=12\n",
    "nx=30\n",
    "dx=2*np.pi/nx\n",
    "c=dx/dt\n",
    "\n",
    "# define coordinates\n",
    "x=np.arange(nx)*dx\n",
    "t=np.arange(nt)*dt\n",
    "\n",
    "# wavenumbers: conventional order is (0:n/2-1,-n/2:-1)\n",
    "k=(np.arange(nx)+nx//2)%nx-nx//2\n",
    "\n",
    "# dispersion relation\n",
    "nExp=5\n",
    "omega=np.zeros((nx,nExp),dtype=complex)\n",
    "omega[:,0]=c*k   # exact\n",
    "omega[:,1]=c*np.sin(k*dx)/dx+1j*(np.cos(k*dx)-1)   # 1st order\n",
    "omega[:,2]=c*np.sin(k*dx)/dx   # 2nd order\n",
    "omega[:,3]=c/dx*(4/3*np.sin(k*dx)-1/6*np.sin(2*k*dx)-1j*(1-np.cos(k*dx))**2/3)\n",
    "omega[:,4]=c/dx*(4/3*np.sin(k*dx)-1/6*np.sin(2*k*dx))\n",
    "\n",
    "# allocate numerical solution, initialize with zeros\n",
    "phi=np.zeros((nt+1,nx,nExp))\n",
    "phi0=np.cos(4*x)+np.cos(3*x) # smooth function\n",
    "phi[0,:,:]=np.resize(phi0,(nExp,nx)).T\n",
    "\n",
    "# evolution in time\n",
    "for jt in range(1,nt+1):\n",
    "    for jExp in range(nExp):\n",
    "        phi_s=np.fft.fft(phi[jt-1,:,jExp])  # spectral components\n",
    "        phi_s=np.exp(-1j*omega[:,jExp]*dt)*phi_s\n",
    "        phi[jt,:,jExp]=np.real(np.fft.ifft(phi_s))\n",
    "\n",
    "# animate results\n",
    "create_animation(phi,labels=['exact','1st order','2nd order','3rd order','4th order'],ylim=[-3,3])"
   ]
  },
  {
   "cell_type": "code",
   "execution_count": null,
   "id": "009ccece-bd46-4d05-a471-6e0d8eccb4ca",
   "metadata": {},
   "outputs": [],
   "source": []
  }
 ],
 "metadata": {
  "kernelspec": {
   "display_name": "Python 3 (ipykernel)",
   "language": "python",
   "name": "python3"
  },
  "language_info": {
   "codemirror_mode": {
    "name": "ipython",
    "version": 3
   },
   "file_extension": ".py",
   "mimetype": "text/x-python",
   "name": "python",
   "nbconvert_exporter": "python",
   "pygments_lexer": "ipython3",
   "version": "3.13.1"
  }
 },
 "nbformat": 4,
 "nbformat_minor": 5
}
